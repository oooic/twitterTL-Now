{
 "cells": [
  {
   "cell_type": "code",
   "execution_count": 5,
   "id": "e5dca3f5",
   "metadata": {},
   "outputs": [],
   "source": [
    "with open(\"../data3.txt\",\"r\") as f:\n",
    "    words=f.read()"
   ]
  },
  {
   "cell_type": "code",
   "execution_count": 6,
   "id": "55d02125",
   "metadata": {},
   "outputs": [
    {
     "data": {
      "text/plain": [
       "'\\ufeffOperationalizing maintenance of calibration models based on near-infrared spectroscopy by knowledge integration Near-infrared NIR spectroscopy Process analytical technology PAT Model maintenance Business process modeling IDEF0 RACI Multiobjective Design Method for the Use Processes of Pharmaceutical Excipients Considering Quality and Cost-Effectiveness Pharmaceutical process design Benzyl alcohol Oxidation Peroxide value Pareto frontier Raman spectroscopy Systematic retrofitting methodology for pharmaceutical drug purification processes Path-flow decomposition Process simulation MINLP Thermally unstable drug Sterilization Planning Method for Reducing Product Losses in Manufacturing Sterile Drug Products Pharmaceuticals Parental Manufacturing Process Improvement Yield PDCA Cycle Method for reducing environmental health and safety risks in active pharmaceutical ingredient manufacturing based on multiobjective evaluation Pharmaceutical manufacturing Process retrofitting Hazard Risk Good Manufacturing Practice Expert knowledge Rigorous approach to scheduling of sterile drug product manufacturing Mathematical optimization Mixed-integer linear programming Scheduling Batch production Industrial application Campaigning Data-driven tiered procedure for enhancing yield in drug product manufacturing Sterile drug product manufacturing Biologics Decision-making Multivariate data analysis Industrial case study Process model for enhancing yield in sterile drug product manufacturing Drug product manufacturing Process improvement Process modeling Processing matrix Root cause analysis Fault tree analysis Innovative approach for identifying root causes of glass defects in sterile drug product manufacturing Process Analytical Technology PAT Quality by Design QbD Tribology Parenterals Pharmaceutical manufacturing Process intensification Production efficiency Decision-support method for the choice between single-use and multi-use technologies in sterile drug product manufacturing Pharmaceutical manufacturing Process design Process modeling What-if analysis Life cycle assessment Decision-making Decision support method for the choice between batch and continuous technologies in solid drug product manufacturing Design-oriented regression models for H2O2 decontamination processes in sterile drug product manufacturing considering rapidity and sterility Multiobjective decision making Process design Sterility assurance D-value Biopharmaceuticals Isolator Uncertainty-conscious methodology for process performance assessment in biopharmaceutical drug product manufacturing Monte Carlo simulation Sensitivity analysis Cleaning Sterilization Good Manufacturing Practice A distribution-based approach for determining lot sizes in the filling of human-induced pluripotent stem cells Cell manufacturability Process modeling Process design Optimization Decision-making Monte Carlo simulation Dynamic modelling simulation and economic evaluation of two CHO cell-based production modes towards developing biopharmaceutical manufacturing processes Monoclonal antibody mAb Perfusion culture Monod equation Process design Economic evaluation Biopharmaceutical manufacturing Online decision-support tool TECHoice for the equipment technology choice in sterile filling processes of biopharmaceuticals Process design Single-use technology Parenteral manufacturing MATLAB Production Server Software development Multi-objective decision-making Data mining algorithm for pre-processing biopharmaceutical drug product manufacturing records GMP Noise Filtering Language recognition Supervised machine learning Semi-supervised machine learning Ishikawa fishbone diagram Alternative generation and multiobjective evaluation using a design framework: case study on sterile filling processes of biopharmaceuticals Process design Single-use technology Parenterals Leachables Sensitivity analysis Decision-making A large-scale experimental comparison of batch and continuous technologies in pharmaceutical tablet manufacturing using ethenzamide Continuous manufacturing Fluidized bed granulation High shear granulation Product quality Scale-up Yield Multiobjective decision-support tools for the choice between single-use and multi-use technologies in sterile filling of biopharmaceuticals Process design Quality Supply robustness Sensitivity analysis Multiobjective decision-making IDEF0 Relevance of regulatory constraints in designing pharmaceutical manufacturing processes: A case study on waste solvent recovery Multiobjective decision-making Active pharmaceutical ingredients Waste solvent recovery Azeotrope Environmental health and safety hazard Apoptosis-based method for determining lot sizes in the filling of human induced pluripotent stem cells Cell manufacturability Cell quality Computational simulation Decision making Optimization Process design Reactive oxygen species Impact of H2O2 sorption by polymers on the duration of aeration in pharmaceutical decontamination Diffusion Desorption Aeration Oxidation Biopharmaceuticals Injectables Productivity Mathematical modeling Simulation Process design Multi-stage and multi-objective decision-support tool for biopharmaceutical drug product manufacturing: equipment technology evaluation Sterile filling Single-use technology Parenterals Sensitivity analysis Decision-making Changeover processes A PSE perspective for the efficient production of monoclonal antibodies: Integration of process cell and product design aspects Approach for multicriteria equipment redesign in sterile manufacturing of biopharmaceuticals CFD Pharmaceutical process simulation Sterile filling Cleaning-in-place Computer-aided process design Multiobjective decision-making Industrial case study Determining key parameters of continuous wet granulation for tablet quality and productivity: A case in ethenzamide Continuous manufacturing High-shear granulation Design of experiments Liquid/solid ratio Circularity Process design and operation Superstructure-based process synthesis and economic assessment under uncertainty for solid drug product manufacturing Continuous manufacturing Pharmaceutical manufacturing Tablets Formulation Clinical development Process design Alternative generation Decision-making Monte Carlo simulation Sensitivity analysis Slow Freezing Process Design for Human Induced Pluripotent Stem Cells by Modeling Intracontainer Variation Regenerative medicine Manufacturing Cryopreservation Process design Mechanistic model Numerical simulation Economic Model for Lot-Size Determination in Pharmaceutical Injectable Manufacturing Process design Parenterals Lot resizing Decision-making Mathematical model Optimization Data-driven anomaly detection and diagnostics for changeover processes in biopharmaceutical drug product manufacturing Maintenance Fault detection Sterile filling Decontamination Multivariate analysis Model-based assessment of temperature profiles in slow freezing for human induced pluripotent stem cells Regenerative medicine Stem cell Cryopreservation Hybrid modeling Numerical simulation Computational screening of cryoprotective agents for regenerative medical products using quantum chemistry and molecular dynamics simulations Cryopreservation Molecular design Numerical simulation Regenerative medicine Stem cell Physical property A prototype method for selecting reduction countermeasure against unused medicine considering patient characteristics Integrated design of H2O2 decontamination processes and scheduling in sterile drug product manufacturing Biopharmaceuticals Injectables Production Changeover Simulation Process design                                                             \\n'"
      ]
     },
     "execution_count": 6,
     "metadata": {},
     "output_type": "execute_result"
    }
   ],
   "source": [
    "words"
   ]
  },
  {
   "cell_type": "code",
   "execution_count": null,
   "id": "1f3ebf8c",
   "metadata": {},
   "outputs": [],
   "source": []
  }
 ],
 "metadata": {
  "kernelspec": {
   "display_name": "Python 3",
   "language": "python",
   "name": "python3"
  },
  "language_info": {
   "codemirror_mode": {
    "name": "ipython",
    "version": 3
   },
   "file_extension": ".py",
   "mimetype": "text/x-python",
   "name": "python",
   "nbconvert_exporter": "python",
   "pygments_lexer": "ipython3",
   "version": "3.8.8"
  }
 },
 "nbformat": 4,
 "nbformat_minor": 5
}
